{
 "cells": [
  {
   "cell_type": "code",
   "execution_count": 1,
   "metadata": {},
   "outputs": [],
   "source": [
    "from numpy import *"
   ]
  },
  {
   "cell_type": "code",
   "execution_count": 3,
   "metadata": {},
   "outputs": [],
   "source": [
    "import regTrees"
   ]
  },
  {
   "cell_type": "code",
   "execution_count": 5,
   "metadata": {},
   "outputs": [],
   "source": [
    "testMat = mat(eye(4))"
   ]
  },
  {
   "cell_type": "code",
   "execution_count": 7,
   "metadata": {},
   "outputs": [
    {
     "data": {
      "text/plain": [
       "matrix([[1., 0., 0., 0.],\n",
       "        [0., 1., 0., 0.],\n",
       "        [0., 0., 1., 0.],\n",
       "        [0., 0., 0., 1.]])"
      ]
     },
     "execution_count": 7,
     "metadata": {},
     "output_type": "execute_result"
    }
   ],
   "source": [
    "testMat"
   ]
  },
  {
   "cell_type": "code",
   "execution_count": 8,
   "metadata": {},
   "outputs": [],
   "source": [
    "mat0, mat1 = regTrees.binSplitDataSet(testMat, 1, 0.5)"
   ]
  },
  {
   "cell_type": "code",
   "execution_count": 10,
   "metadata": {},
   "outputs": [
    {
     "data": {
      "text/plain": [
       "matrix([[0., 1., 0., 0.]])"
      ]
     },
     "execution_count": 10,
     "metadata": {},
     "output_type": "execute_result"
    }
   ],
   "source": [
    "mat0"
   ]
  },
  {
   "cell_type": "code",
   "execution_count": 17,
   "metadata": {
    "scrolled": true
   },
   "outputs": [
    {
     "data": {
      "text/plain": [
       "matrix([[1., 0., 0., 0.]])"
      ]
     },
     "execution_count": 17,
     "metadata": {},
     "output_type": "execute_result"
    }
   ],
   "source": [
    "mat1"
   ]
  },
  {
   "cell_type": "markdown",
   "metadata": {},
   "source": [
    "### 9.3.2 코드 실행하기"
   ]
  },
  {
   "cell_type": "code",
   "execution_count": 26,
   "metadata": {},
   "outputs": [
    {
     "data": {
      "text/plain": [
       "[[0.036098, 0.155096],\n",
       " [0.993349, 1.077553],\n",
       " [0.530897, 0.893462],\n",
       " [0.712386, 0.564858],\n",
       " [0.343554, -0.3717],\n",
       " [0.098016, -0.33276],\n",
       " [0.691115, 0.834391],\n",
       " [0.091358, 0.099935],\n",
       " [0.727098, 1.000567],\n",
       " [0.951949, 0.945255],\n",
       " [0.768596, 0.760219],\n",
       " [0.541314, 0.893748],\n",
       " [0.146366, 0.034283],\n",
       " [0.673195, 0.915077],\n",
       " [0.18351, 0.184843],\n",
       " [0.339563, 0.206783],\n",
       " [0.517921, 1.493586],\n",
       " [0.703755, 1.101678],\n",
       " [0.008307, 0.069976],\n",
       " [0.243909, -0.029467],\n",
       " [0.306964, -0.177321],\n",
       " [0.036492, 0.408155],\n",
       " [0.295511, 0.002882],\n",
       " [0.837522, 1.229373],\n",
       " [0.202054, -0.087744],\n",
       " [0.919384, 1.029889],\n",
       " [0.377201, -0.24355],\n",
       " [0.814825, 1.095206],\n",
       " [0.61127, 0.982036],\n",
       " [0.072243, -0.420983],\n",
       " [0.41023, 0.331722],\n",
       " [0.869077, 1.114825],\n",
       " [0.620599, 1.334421],\n",
       " [0.101149, 0.068834],\n",
       " [0.820802, 1.325907],\n",
       " [0.520044, 0.961983],\n",
       " [0.48813, -0.097791],\n",
       " [0.819823, 0.835264],\n",
       " [0.975022, 0.673579],\n",
       " [0.953112, 1.06469],\n",
       " [0.475976, -0.163707],\n",
       " [0.273147, -0.455219],\n",
       " [0.804586, 0.924033],\n",
       " [0.074795, -0.349692],\n",
       " [0.625336, 0.623696],\n",
       " [0.656218, 0.958506],\n",
       " [0.834078, 1.01058],\n",
       " [0.78193, 1.074488],\n",
       " [0.009849, 0.056594],\n",
       " [0.302217, -0.14865],\n",
       " [0.678287, 0.907727],\n",
       " [0.180506, 0.103676],\n",
       " [0.193641, -0.327589],\n",
       " [0.343479, 0.175264],\n",
       " [0.145809, 0.136979],\n",
       " [0.996757, 1.035533],\n",
       " [0.59021, 1.336661],\n",
       " [0.23807, -0.358459],\n",
       " [0.561362, 1.070529],\n",
       " [0.377597, 0.088505],\n",
       " [0.099142, 0.02528],\n",
       " [0.539558, 1.053846],\n",
       " [0.79024, 0.533214],\n",
       " [0.242204, 0.209359],\n",
       " [0.152324, 0.132858],\n",
       " [0.252649, -0.055613],\n",
       " [0.89593, 1.077275],\n",
       " [0.1333, -0.223143],\n",
       " [0.559763, 1.253151],\n",
       " [0.643665, 1.024241],\n",
       " [0.877241, 0.797005],\n",
       " [0.613765, 1.621091],\n",
       " [0.645762, 1.026886],\n",
       " [0.651376, 1.315384],\n",
       " [0.697718, 1.212434],\n",
       " [0.742527, 1.087056],\n",
       " [0.901056, 1.0559],\n",
       " [0.362314, -0.556464],\n",
       " [0.948268, 0.631862],\n",
       " [0.000234, 0.060903],\n",
       " [0.750078, 0.906291],\n",
       " [0.325412, -0.219245],\n",
       " [0.726828, 1.017112],\n",
       " [0.348013, 0.048939],\n",
       " [0.458121, -0.061456],\n",
       " [0.280738, -0.22888],\n",
       " [0.567704, 0.969058],\n",
       " [0.750918, 0.748104],\n",
       " [0.575805, 0.89909],\n",
       " [0.50794, 1.107265],\n",
       " [0.071769, -0.110946],\n",
       " [0.55352, 1.391273],\n",
       " [0.401152, -0.12164],\n",
       " [0.406649, -0.366317],\n",
       " [0.652121, 1.004346],\n",
       " [0.347837, -0.153405],\n",
       " [0.081931, -0.269756],\n",
       " [0.821648, 1.280895],\n",
       " [0.048014, 0.064496],\n",
       " [0.130962, 0.184241],\n",
       " [0.773422, 1.125943],\n",
       " [0.789625, 0.552614],\n",
       " [0.096994, 0.227167],\n",
       " [0.625791, 1.244731],\n",
       " [0.589575, 1.185812],\n",
       " [0.323181, 0.180811],\n",
       " [0.822443, 1.086648],\n",
       " [0.360323, -0.20483],\n",
       " [0.950153, 1.022906],\n",
       " [0.527505, 0.87956],\n",
       " [0.860049, 0.71749],\n",
       " [0.007044, 0.09415],\n",
       " [0.438367, 0.034014],\n",
       " [0.574573, 1.06613],\n",
       " [0.536689, 0.867284],\n",
       " [0.782167, 0.886049],\n",
       " [0.989888, 0.744207],\n",
       " [0.761474, 1.058262],\n",
       " [0.985425, 1.227946],\n",
       " [0.132543, -0.329372],\n",
       " [0.346986, -0.150389],\n",
       " [0.768784, 0.899705],\n",
       " [0.848921, 1.170959],\n",
       " [0.44928, 0.069098],\n",
       " [0.066172, 0.052439],\n",
       " [0.813719, 0.706601],\n",
       " [0.661923, 0.76704],\n",
       " [0.529491, 1.022206],\n",
       " [0.846455, 0.72003],\n",
       " [0.448656, 0.026974],\n",
       " [0.795072, 0.965721],\n",
       " [0.118156, -0.077409],\n",
       " [0.084248, -0.019547],\n",
       " [0.845815, 0.952617],\n",
       " [0.576946, 1.234129],\n",
       " [0.772083, 1.299018],\n",
       " [0.696648, 0.845423],\n",
       " [0.595012, 1.213435],\n",
       " [0.648675, 1.287407],\n",
       " [0.897094, 1.240209],\n",
       " [0.55299, 1.036158],\n",
       " [0.332982, 0.210084],\n",
       " [0.065615, -0.30697],\n",
       " [0.278661, 0.253628],\n",
       " [0.773168, 1.140917],\n",
       " [0.203693, -0.064036],\n",
       " [0.355688, -0.119399],\n",
       " [0.988852, 1.069062],\n",
       " [0.518735, 1.037179],\n",
       " [0.514563, 1.156648],\n",
       " [0.976414, 0.862911],\n",
       " [0.919074, 1.123413],\n",
       " [0.697777, 0.827805],\n",
       " [0.928097, 0.883225],\n",
       " [0.900272, 0.996871],\n",
       " [0.344102, -0.061539],\n",
       " [0.148049, 0.204298],\n",
       " [0.130052, -0.026167],\n",
       " [0.302001, 0.317135],\n",
       " [0.3371, 0.026332],\n",
       " [0.314924, -0.001952],\n",
       " [0.269681, -0.165971],\n",
       " [0.196005, -0.048847],\n",
       " [0.129061, 0.305107],\n",
       " [0.936783, 1.026258],\n",
       " [0.30554, -0.115991],\n",
       " [0.683921, 1.414382],\n",
       " [0.622398, 0.76633],\n",
       " [0.902532, 0.861601],\n",
       " [0.712503, 0.93349],\n",
       " [0.590062, 0.705531],\n",
       " [0.72312, 1.307248],\n",
       " [0.188218, 0.113685],\n",
       " [0.643601, 0.782552],\n",
       " [0.520207, 1.209557],\n",
       " [0.233115, -0.348147],\n",
       " [0.465625, -0.15294],\n",
       " [0.884512, 1.117833],\n",
       " [0.6632, 0.701634],\n",
       " [0.268857, 0.073447],\n",
       " [0.729234, 0.931956],\n",
       " [0.429664, -0.188659],\n",
       " [0.737189, 1.200781],\n",
       " [0.378595, -0.296094],\n",
       " [0.930173, 1.035645],\n",
       " [0.774301, 0.836763],\n",
       " [0.27394, -0.085713],\n",
       " [0.824442, 1.082153],\n",
       " [0.626011, 0.840544],\n",
       " [0.67939, 1.307217],\n",
       " [0.578252, 0.921885],\n",
       " [0.785541, 1.165296],\n",
       " [0.597409, 0.97477],\n",
       " [0.014083, -0.132525],\n",
       " [0.66387, 1.187129],\n",
       " [0.552381, 1.36963],\n",
       " [0.683886, 0.999985],\n",
       " [0.210334, -0.006899],\n",
       " [0.604529, 1.212685],\n",
       " [0.250744, 0.046297]]"
      ]
     },
     "execution_count": 26,
     "metadata": {},
     "output_type": "execute_result"
    }
   ],
   "source": [
    "myDat = regTrees.loadDataSet('ex00.txt')\n",
    "myDat"
   ]
  },
  {
   "cell_type": "code",
   "execution_count": 29,
   "metadata": {},
   "outputs": [],
   "source": [
    "myDat_x = [x for (x,_) in myDat]\n",
    "myDat_y = [y for (_,y) in myDat]"
   ]
  },
  {
   "cell_type": "code",
   "execution_count": 30,
   "metadata": {},
   "outputs": [
    {
     "data": {
      "text/plain": [
       "[0.036098,\n",
       " 0.993349,\n",
       " 0.530897,\n",
       " 0.712386,\n",
       " 0.343554,\n",
       " 0.098016,\n",
       " 0.691115,\n",
       " 0.091358,\n",
       " 0.727098,\n",
       " 0.951949]"
      ]
     },
     "execution_count": 30,
     "metadata": {},
     "output_type": "execute_result"
    }
   ],
   "source": [
    "myDat_x[:10]"
   ]
  },
  {
   "cell_type": "code",
   "execution_count": 22,
   "metadata": {},
   "outputs": [],
   "source": [
    "import matplotlib.pyplot as plt\n",
    "%matplotlib inline"
   ]
  },
  {
   "cell_type": "code",
   "execution_count": 31,
   "metadata": {},
   "outputs": [
    {
     "ename": "TypeError",
     "evalue": "list indices must be integers, not tuple",
     "output_type": "error",
     "traceback": [
      "\u001b[1;31m---------------------------------------------------------------------------\u001b[0m",
      "\u001b[1;31mTypeError\u001b[0m                                 Traceback (most recent call last)",
      "\u001b[1;32m<ipython-input-31-2bf956483a66>\u001b[0m in \u001b[0;36m<module>\u001b[1;34m()\u001b[0m\n\u001b[0;32m      1\u001b[0m \u001b[0mfig\u001b[0m \u001b[1;33m=\u001b[0m \u001b[0mplt\u001b[0m\u001b[1;33m.\u001b[0m\u001b[0mfigure\u001b[0m\u001b[1;33m(\u001b[0m\u001b[1;33m)\u001b[0m\u001b[1;33m\u001b[0m\u001b[0m\n\u001b[0;32m      2\u001b[0m \u001b[0max\u001b[0m \u001b[1;33m=\u001b[0m \u001b[0mfig\u001b[0m\u001b[1;33m.\u001b[0m\u001b[0madd_subplot\u001b[0m\u001b[1;33m(\u001b[0m\u001b[1;36m111\u001b[0m\u001b[1;33m)\u001b[0m\u001b[1;33m\u001b[0m\u001b[0m\n\u001b[1;32m----> 3\u001b[1;33m \u001b[0max\u001b[0m\u001b[1;33m.\u001b[0m\u001b[0mscatter\u001b[0m\u001b[1;33m(\u001b[0m\u001b[0mmyDat_x\u001b[0m\u001b[1;33m[\u001b[0m\u001b[1;33m:\u001b[0m\u001b[1;33m,\u001b[0m\u001b[1;36m0\u001b[0m\u001b[1;33m]\u001b[0m\u001b[1;33m,\u001b[0m\u001b[0mmyDat_y\u001b[0m\u001b[1;33m[\u001b[0m\u001b[1;33m:\u001b[0m\u001b[1;33m,\u001b[0m\u001b[1;36m1\u001b[0m\u001b[1;33m]\u001b[0m\u001b[1;33m)\u001b[0m\u001b[1;33m\u001b[0m\u001b[0m\n\u001b[0m",
      "\u001b[1;31mTypeError\u001b[0m: list indices must be integers, not tuple"
     ]
    },
    {
     "data": {
      "image/png": "[encoded data removed]",
      "text/plain": [
       "<Figure size 432x288 with 1 Axes>"
      ]
     },
     "metadata": {},
     "output_type": "display_data"
    }
   ],
   "source": [
    "fig = plt.figure()\n",
    "ax = fig.add_subplot(111)\n",
    "ax.scatter(myDat_x[:,0],myDat_y[:,1])"
   ]
  },
  {
   "cell_type": "code",
   "execution_count": null,
   "metadata": {},
   "outputs": [],
   "source": []
  },
  {
   "cell_type": "code",
   "execution_count": 16,
   "metadata": {},
   "outputs": [
    {
     "ename": "NameError",
     "evalue": "name 'dataSet' is not defined",
     "output_type": "error",
     "traceback": [
      "\u001b[1;31m---------------------------------------------------------------------------\u001b[0m",
      "\u001b[1;31mNameError\u001b[0m                                 Traceback (most recent call last)",
      "\u001b[1;32m<ipython-input-16-337066700088>\u001b[0m in \u001b[0;36m<module>\u001b[1;34m()\u001b[0m\n\u001b[1;32m----> 1\u001b[1;33m \u001b[0mdataSet\u001b[0m\u001b[1;33m[\u001b[0m\u001b[0mnonzero\u001b[0m\u001b[1;33m(\u001b[0m\u001b[0mdataSet\u001b[0m\u001b[1;33m[\u001b[0m\u001b[1;33m:\u001b[0m\u001b[1;33m,\u001b[0m\u001b[0mfeature\u001b[0m\u001b[1;33m]\u001b[0m\u001b[1;33m<=\u001b[0m\u001b[0mvalue\u001b[0m\u001b[1;33m)\u001b[0m\u001b[1;33m[\u001b[0m\u001b[1;36m0\u001b[0m\u001b[1;33m]\u001b[0m\u001b[1;33m,\u001b[0m\u001b[1;33m:\u001b[0m\u001b[1;33m]\u001b[0m\u001b[1;33m[\u001b[0m\u001b[1;36m0\u001b[0m\u001b[1;33m]\u001b[0m\u001b[1;33m\u001b[0m\u001b[0m\n\u001b[0m",
      "\u001b[1;31mNameError\u001b[0m: name 'dataSet' is not defined"
     ]
    }
   ],
   "source": [
    "dataSet[nonzero(dataSet[:,feature]<=value)[0],:][0]"
   ]
  },
  {
   "cell_type": "code",
   "execution_count": null,
   "metadata": {},
   "outputs": [],
   "source": [
    "testMat[nonzero(testMat[:,1]<=0.5)[0],:]"
   ]
  }
 ],
 "metadata": {
  "kernelspec": {
   "display_name": "Python 2",
   "language": "python",
   "name": "python2"
  },
  "language_info": {
   "codemirror_mode": {
    "name": "ipython",
    "version": 2
   },
   "file_extension": ".py",
   "mimetype": "text/x-python",
   "name": "python",
   "nbconvert_exporter": "python",
   "pygments_lexer": "ipython2",
   "version": "2.7.14"
  }
 },
 "nbformat": 4,
 "nbformat_minor": 2
}
